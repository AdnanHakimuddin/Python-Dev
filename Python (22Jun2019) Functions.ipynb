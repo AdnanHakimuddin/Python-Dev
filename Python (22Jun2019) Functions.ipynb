{
 "cells": [
  {
   "cell_type": "code",
   "execution_count": 1,
   "metadata": {},
   "outputs": [
    {
     "name": "stdout",
     "output_type": "stream",
     "text": [
      "apna time ayega\n"
     ]
    }
   ],
   "source": [
    "def greet_user(): #To define a function write def\n",
    "    print(\"apna time ayega\")\n",
    "    \n",
    "greet_user()    "
   ]
  },
  {
   "cell_type": "code",
   "execution_count": 13,
   "metadata": {},
   "outputs": [],
   "source": [
    "def multi(a = 1,b = 3):\n",
    "    c = a*b\n",
    "    print(c)\n",
    "    \n",
    " "
   ]
  },
  {
   "cell_type": "code",
   "execution_count": 8,
   "metadata": {},
   "outputs": [
    {
     "name": "stdout",
     "output_type": "stream",
     "text": [
      "4\n"
     ]
    }
   ],
   "source": [
    "multi(2,2)   "
   ]
  },
  {
   "cell_type": "code",
   "execution_count": 14,
   "metadata": {},
   "outputs": [
    {
     "name": "stdout",
     "output_type": "stream",
     "text": [
      "6\n"
     ]
    }
   ],
   "source": [
    "multi(2)"
   ]
  },
  {
   "cell_type": "code",
   "execution_count": 26,
   "metadata": {},
   "outputs": [],
   "source": [
    "def names(firstName=\"\",middleName=\"\",lastName=\"\"):\n",
    "    firstName = str(input(\"Enter the FistName \"))\n",
    "    middleName = str(input(\"Enter the MiddleName \"))\n",
    "    lastName = str(input(\"Enter the LastName \"))\n",
    "    print(firstName+\" \" + middleName+ \" \" + lastName);"
   ]
  },
  {
   "cell_type": "code",
   "execution_count": 27,
   "metadata": {},
   "outputs": [
    {
     "name": "stdout",
     "output_type": "stream",
     "text": [
      "Enter the FistName Adnan\n",
      "Enter the MiddleName Hakimuddin\n",
      "Enter the LastName YousufAli\n",
      "Adnan Hakimuddin YousufAli\n"
     ]
    }
   ],
   "source": [
    "names()"
   ]
  },
  {
   "cell_type": "code",
   "execution_count": 58,
   "metadata": {
    "scrolled": true
   },
   "outputs": [
    {
     "ename": "SyntaxError",
     "evalue": "invalid syntax (<ipython-input-58-5d3c7c1753f9>, line 5)",
     "output_type": "error",
     "traceback": [
      "\u001b[1;36m  File \u001b[1;32m\"<ipython-input-58-5d3c7c1753f9>\"\u001b[1;36m, line \u001b[1;32m5\u001b[0m\n\u001b[1;33m    calculation = number1 operator number2\u001b[0m\n\u001b[1;37m                                 ^\u001b[0m\n\u001b[1;31mSyntaxError\u001b[0m\u001b[1;31m:\u001b[0m invalid syntax\n"
     ]
    }
   ],
   "source": [
    "def calculate():\n",
    "    number1= int(input(\"Enter You First Number\"))\n",
    "    number2= int(input(\"Enter You Second Number\"))\n",
    "    operator= str(input(\"Enter You Operator\"))\n",
    "    calculation = number1 operator number2\n",
    "    print(calculation)"
   ]
  },
  {
   "cell_type": "code",
   "execution_count": 55,
   "metadata": {},
   "outputs": [
    {
     "name": "stdout",
     "output_type": "stream",
     "text": [
      "Enter You First Number8\n",
      "Enter You Second Number9\n",
      "Enter You Operator/\n"
     ]
    },
    {
     "ename": "TypeError",
     "evalue": "unsupported operand type(s) for +: 'int' and 'str'",
     "output_type": "error",
     "traceback": [
      "\u001b[1;31m---------------------------------------------------------------------------\u001b[0m",
      "\u001b[1;31mTypeError\u001b[0m                                 Traceback (most recent call last)",
      "\u001b[1;32m<ipython-input-55-fcd3d60fca5c>\u001b[0m in \u001b[0;36m<module>\u001b[1;34m\u001b[0m\n\u001b[1;32m----> 1\u001b[1;33m \u001b[0mcalculate\u001b[0m\u001b[1;33m(\u001b[0m\u001b[1;33m)\u001b[0m\u001b[1;33m\u001b[0m\u001b[1;33m\u001b[0m\u001b[0m\n\u001b[0m",
      "\u001b[1;32m<ipython-input-54-d2381f95c4e6>\u001b[0m in \u001b[0;36mcalculate\u001b[1;34m()\u001b[0m\n\u001b[0;32m      3\u001b[0m     \u001b[0mnumber2\u001b[0m\u001b[1;33m=\u001b[0m \u001b[0mint\u001b[0m\u001b[1;33m(\u001b[0m\u001b[0minput\u001b[0m\u001b[1;33m(\u001b[0m\u001b[1;34m\"Enter You Second Number\"\u001b[0m\u001b[1;33m)\u001b[0m\u001b[1;33m)\u001b[0m\u001b[1;33m\u001b[0m\u001b[1;33m\u001b[0m\u001b[0m\n\u001b[0;32m      4\u001b[0m     \u001b[0moperator\u001b[0m\u001b[1;33m=\u001b[0m \u001b[0mstr\u001b[0m\u001b[1;33m(\u001b[0m\u001b[0minput\u001b[0m\u001b[1;33m(\u001b[0m\u001b[1;34m\"Enter You Operator\"\u001b[0m\u001b[1;33m)\u001b[0m\u001b[1;33m)\u001b[0m\u001b[1;33m\u001b[0m\u001b[1;33m\u001b[0m\u001b[0m\n\u001b[1;32m----> 5\u001b[1;33m     \u001b[0mcalculation\u001b[0m \u001b[1;33m=\u001b[0m \u001b[0mnumber1\u001b[0m \u001b[1;33m+\u001b[0m \u001b[0mstr\u001b[0m\u001b[1;33m(\u001b[0m\u001b[0moperator\u001b[0m\u001b[1;33m)\u001b[0m \u001b[1;33m+\u001b[0m \u001b[0mnumber2\u001b[0m\u001b[1;33m\u001b[0m\u001b[1;33m\u001b[0m\u001b[0m\n\u001b[0m\u001b[0;32m      6\u001b[0m     \u001b[0mprint\u001b[0m\u001b[1;33m(\u001b[0m\u001b[0mcalculation\u001b[0m\u001b[1;33m)\u001b[0m\u001b[1;33m\u001b[0m\u001b[1;33m\u001b[0m\u001b[0m\n",
      "\u001b[1;31mTypeError\u001b[0m: unsupported operand type(s) for +: 'int' and 'str'"
     ]
    }
   ],
   "source": [
    "calculate()"
   ]
  },
  {
   "cell_type": "code",
   "execution_count": 49,
   "metadata": {},
   "outputs": [],
   "source": [
    "def cal():\n",
    "    number1= int(input(\"Enter You First Number \"))\n",
    "    number2= int(input(\"Enter You Second Number \"))\n",
    "    operator= str(input(\"Enter You Operator \"))\n",
    "    if operator == \"+\":\n",
    "        c = number1 + number2\n",
    "\n",
    "    elif operator == \"-\":\n",
    "        c = number1 - number2\n",
    "        \n",
    "    elif operator == \"*\":\n",
    "        c= number1 * number2\n",
    "        \n",
    "    elif operator == \"/\":\n",
    "        c= number1 / number2\n",
    "        \n",
    "    print(c)"
   ]
  },
  {
   "cell_type": "code",
   "execution_count": 48,
   "metadata": {},
   "outputs": [
    {
     "name": "stdout",
     "output_type": "stream",
     "text": [
      "Enter You First Number3\n",
      "Enter You Second Number4\n",
      "Enter You Operator/\n",
      "0.75\n"
     ]
    }
   ],
   "source": [
    "cal()"
   ]
  },
  {
   "cell_type": "code",
   "execution_count": 61,
   "metadata": {},
   "outputs": [
    {
     "name": "stdout",
     "output_type": "stream",
     "text": [
      "Adnan Hakimuddin YousufAli\n",
      "Adnan YousufAli \n"
     ]
    }
   ],
   "source": [
    "def naming(fName=\"\",mName=\"\",lName=\"\"):\n",
    "    if mName:\n",
    "        fullName = fName +\" \"+ mName +\" \"+ lName\n",
    "    else: \n",
    "        fullName = fName +\" \"+ lName\n",
    "        \n",
    "    return fullName\n",
    "\n",
    "a = naming(\"Adnan\",\"Hakimuddin\",\"YousufAli\")\n",
    "print(a)\n",
    "\n",
    "b = naming(\"Adnan\",\"YousufAli\")\n",
    "print(b)"
   ]
  },
  {
   "cell_type": "code",
   "execution_count": 62,
   "metadata": {},
   "outputs": [
    {
     "name": "stdout",
     "output_type": "stream",
     "text": [
      "Hello ,Ali\n",
      "Hello ,Adnan\n",
      "Hello ,Ahmed\n",
      "Hello ,Daniyal\n"
     ]
    }
   ],
   "source": [
    "def friends(names):\n",
    "    for name in names:\n",
    "        greet = \"Hello ,\" + name \n",
    "        print(greet)\n",
    "    \n",
    "user = [\"Ali\",\"Adnan\",\"Ahmed\",\"Daniyal\"]\n",
    "friends(user)"
   ]
  },
  {
   "cell_type": "code",
   "execution_count": 69,
   "metadata": {},
   "outputs": [
    {
     "name": "stdout",
     "output_type": "stream",
     "text": [
      "First: Adnan\n",
      "LastName:  Hakimuddin\n",
      "age:  19\n"
     ]
    }
   ],
   "source": [
    "def human(fName,lName,age):\n",
    "    buildHuman = {\"First:\":fName, \"LastName: \": lName, \"age: \": age}\n",
    "    for key , value in buildHuman.items():\n",
    "        print(key,value)\n",
    "        \n",
    "human(\"Adnan\",\"Hakimuddin\",19)"
   ]
  },
  {
   "cell_type": "code",
   "execution_count": 71,
   "metadata": {},
   "outputs": [
    {
     "name": "stdout",
     "output_type": "stream",
     "text": [
      "First: Adnan\n",
      "('as', 'ad', 'xsa')\n",
      "LastName:  Hakimuddin\n",
      "('as', 'ad', 'xsa')\n",
      "age:  19\n",
      "('as', 'ad', 'xsa')\n"
     ]
    }
   ],
   "source": [
    "def human(fName,lName,age,*others):\n",
    "    buildHuman = {\"First:\":fName, \"LastName: \": lName, \"age: \": age}\n",
    "    for key , value in buildHuman.items():\n",
    "        print(key,value)\n",
    "        print(others)\n",
    "        \n",
    "human(\"Adnan\",\"Hakimuddin\",19,\"as\",\"ad\",\"xsa\")"
   ]
  },
  {
   "cell_type": "code",
   "execution_count": null,
   "metadata": {},
   "outputs": [],
   "source": []
  }
 ],
 "metadata": {
  "kernelspec": {
   "display_name": "Python 3",
   "language": "python",
   "name": "python3"
  },
  "language_info": {
   "codemirror_mode": {
    "name": "ipython",
    "version": 3
   },
   "file_extension": ".py",
   "mimetype": "text/x-python",
   "name": "python",
   "nbconvert_exporter": "python",
   "pygments_lexer": "ipython3",
   "version": "3.7.3"
  }
 },
 "nbformat": 4,
 "nbformat_minor": 2
}
