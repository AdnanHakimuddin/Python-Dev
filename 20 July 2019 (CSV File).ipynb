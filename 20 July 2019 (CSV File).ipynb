{
 "cells": [
  {
   "cell_type": "markdown",
   "metadata": {},
   "source": [
    "# CSV File Reading Writing "
   ]
  },
  {
   "cell_type": "code",
   "execution_count": 11,
   "metadata": {},
   "outputs": [],
   "source": [
    "import csv"
   ]
  },
  {
   "cell_type": "code",
   "execution_count": 12,
   "metadata": {},
   "outputs": [
    {
     "name": "stdout",
     "output_type": "stream",
     "text": [
      "<_csv.reader object at 0x0000026C6B577CE0>\n"
     ]
    }
   ],
   "source": [
    "with open(\"abc.csv\") as f:\n",
    "    x = csv.reader(f)\n",
    "    print(x)"
   ]
  },
  {
   "cell_type": "code",
   "execution_count": 15,
   "metadata": {},
   "outputs": [
    {
     "name": "stdout",
     "output_type": "stream",
     "text": [
      "[['Start Date ', 'Start Time', 'End Date', 'End Time', 'Event Title ', 'All Day Event', 'No End Time', 'Event Description', 'Contact ', 'Contact Email', 'Contact Phone', 'Location', 'Category', 'Mandatory', 'Registration', 'Maximum', 'Last Date To Register'], ['9/5/2011', '3:00:00 PM', '9/5/2011', '', 'Social Studies Dept. Meeting', 'N', 'Y', 'Department meeting', 'Chris Gallagher', 'cgallagher@schoolwires.com', '814-555-5179', 'High School', '2', 'N', 'N', '25', '9/2/2011'], ['9/5/2011', '6:00:00 PM', '9/5/2011', '8:00:00 PM', 'Curriculum Meeting', 'N', 'N', 'Curriculum Meeting', 'Chris Gallagher', 'cgallagher@schoolwires.com', '814-555-5179', 'High School', '2', 'N', 'N', '25', '9/2/2011']]\n"
     ]
    }
   ],
   "source": [
    "with open(\"abc.csv\") as f:\n",
    "    x = csv.reader(f)\n",
    "    t=[]\n",
    "    for i in x:\n",
    "        t.append(i)\n",
    "print(t)"
   ]
  },
  {
   "cell_type": "code",
   "execution_count": 21,
   "metadata": {},
   "outputs": [],
   "source": [
    "with open(\"abc.csv\",\"w\",newline=\"\") as f:\n",
    "    data_handler = csv.writer(f,delimiter=\",\")\n",
    "    data_handler.writerow([\"Year\",\"Event\",\"Winner\"])\n",
    "    data_handler.writerow([\"1998\",\"Best - Keep\",\"None\"])\n",
    "    data_handler.writerow([\"1999\",\"Stone\",\"Sindh Open\"])"
   ]
  },
  {
   "cell_type": "code",
   "execution_count": 23,
   "metadata": {},
   "outputs": [],
   "source": [
    "with open(\"abc.csv\",\"a\",newline=\"\") as f:\n",
    "    data_handler = csv.writer(f,delimiter=\",\")\n",
    "    data_handler.writerow([\"Year\",\"Event\",\"Winner\"])\n",
    "    data_handler.writerow([\"1998\",\"Keep\",\"Moon\"])\n",
    "    data_handler.writerow([\"1999\",\"Witch\",\"Welsh Open\"])"
   ]
  },
  {
   "cell_type": "code",
   "execution_count": null,
   "metadata": {},
   "outputs": [],
   "source": []
  }
 ],
 "metadata": {
  "kernelspec": {
   "display_name": "Python 3",
   "language": "python",
   "name": "python3"
  },
  "language_info": {
   "codemirror_mode": {
    "name": "ipython",
    "version": 3
   },
   "file_extension": ".py",
   "mimetype": "text/x-python",
   "name": "python",
   "nbconvert_exporter": "python",
   "pygments_lexer": "ipython3",
   "version": "3.7.3"
  }
 },
 "nbformat": 4,
 "nbformat_minor": 2
}
