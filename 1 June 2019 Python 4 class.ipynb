{
 "cells": [
  {
   "cell_type": "markdown",
   "metadata": {},
   "source": [
    "# 1 June 2019"
   ]
  },
  {
   "cell_type": "markdown",
   "metadata": {},
   "source": [
    "# For Loop"
   ]
  },
  {
   "cell_type": "code",
   "execution_count": 1,
   "metadata": {},
   "outputs": [],
   "source": [
    "fruits = [\"Apple\",\"Bannana\",\"Peach\",\"Orange\",\"Mango\"]"
   ]
  },
  {
   "cell_type": "code",
   "execution_count": 3,
   "metadata": {},
   "outputs": [
    {
     "name": "stdout",
     "output_type": "stream",
     "text": [
      "Apple\n",
      "Bannana\n",
      "Peach\n",
      "Orange\n",
      "Mango\n"
     ]
    }
   ],
   "source": [
    "for fruit in fruits:\n",
    "    print(fruit)"
   ]
  },
  {
   "cell_type": "code",
   "execution_count": 6,
   "metadata": {},
   "outputs": [
    {
     "name": "stdout",
     "output_type": "stream",
     "text": [
      "Apple is Not a Summer Fruit\n",
      "Bannana is Not a Summer Fruit\n",
      "Peach is Not a Summer Fruit\n",
      "Orange is Not a Summer Fruit\n",
      "Mango is a Summer fruit\n"
     ]
    }
   ],
   "source": [
    "for fruit in fruits:\n",
    "    if fruit == \"Mango\":\n",
    "        print(f\"{fruit} is a Summer fruit\")\n",
    "    else: \n",
    "        print(f\"{fruit} is Not a Summer Fruit\")"
   ]
  },
  {
   "cell_type": "code",
   "execution_count": 7,
   "metadata": {},
   "outputs": [
    {
     "name": "stdout",
     "output_type": "stream",
     "text": [
      "P A K I S T A N "
     ]
    }
   ],
   "source": [
    "for a in \"PAKISTAN\":\n",
    "    print(a, end = \" \")"
   ]
  },
  {
   "cell_type": "code",
   "execution_count": 10,
   "metadata": {},
   "outputs": [
    {
     "name": "stdout",
     "output_type": "stream",
     "text": [
      "0 1 2 3 4 5 6 7 8 9 "
     ]
    }
   ],
   "source": [
    "for num in range(10):\n",
    "    print(num, end = \" \")"
   ]
  },
  {
   "cell_type": "code",
   "execution_count": 11,
   "metadata": {},
   "outputs": [
    {
     "name": "stdout",
     "output_type": "stream",
     "text": [
      "1 2 3 4 5 6 7 8 9 "
     ]
    }
   ],
   "source": [
    "for num in range(1,10):\n",
    "    print(num, end = \" \")"
   ]
  },
  {
   "cell_type": "code",
   "execution_count": 18,
   "metadata": {},
   "outputs": [
    {
     "name": "stdout",
     "output_type": "stream",
     "text": [
      "Enter a number to get table7\n",
      "7 x 1 = 7\n",
      "7 x 2 = 14\n",
      "7 x 3 = 21\n",
      "7 x 4 = 28\n",
      "7 x 5 = 35\n",
      "7 x 6 = 42\n",
      "7 x 7 = 49\n",
      "7 x 8 = 56\n",
      "7 x 9 = 63\n",
      "7 x 10 = 70\n"
     ]
    }
   ],
   "source": [
    "numberInputs = int(input(\"Enter a number to get table\"))\n",
    "for num in range(1,11):\n",
    "    print(f\"{numberInputs} x {num} = {numberInputs * num}\")"
   ]
  },
  {
   "cell_type": "code",
   "execution_count": 19,
   "metadata": {},
   "outputs": [
    {
     "name": "stdout",
     "output_type": "stream",
     "text": [
      "1 4 7 10 13 16 19 22 25 28 "
     ]
    }
   ],
   "source": [
    "for num in range(1,30,3): # for odd even number or to jump over from number STEPPING\n",
    "    print(num, end = \" \")"
   ]
  },
  {
   "cell_type": "code",
   "execution_count": 21,
   "metadata": {},
   "outputs": [
    {
     "name": "stdout",
     "output_type": "stream",
     "text": [
      "25 24 23 22 21 20 19 18 17 16 15 14 13 12 11 10 9 8 7 6 5 4 3 2 1 "
     ]
    }
   ],
   "source": [
    "for num in range(25,0,-1):\n",
    "    print(num, end=\" \")"
   ]
  },
  {
   "cell_type": "code",
   "execution_count": 23,
   "metadata": {},
   "outputs": [
    {
     "name": "stdout",
     "output_type": "stream",
     "text": [
      "Enter a number to get table8\n",
      "8 x 1 = 8\n",
      "8 x 3 = 24\n",
      "8 x 5 = 40\n",
      "8 x 7 = 56\n",
      "8 x 9 = 72\n"
     ]
    }
   ],
   "source": [
    "numberInputs = int(input(\"Enter a number to get table \"))\n",
    "for num in range(1,11):\n",
    "    if num % 2 == 0:\n",
    "        continue\n",
    "    else:\n",
    "        print(f\"{numberInputs} x {num} = {numberInputs * num}\")"
   ]
  },
  {
   "cell_type": "code",
   "execution_count": 24,
   "metadata": {},
   "outputs": [
    {
     "name": "stdout",
     "output_type": "stream",
     "text": [
      "Enter a number to get table8\n",
      "8 x 1 = 8\n"
     ]
    }
   ],
   "source": [
    "numberInputs = int(input(\"Enter a number to get table \"))\n",
    "for num in range(1,11):\n",
    "    if num % 2 == 0:\n",
    "        break\n",
    "    else:\n",
    "        print(f\"{numberInputs} x {num} = {numberInputs * num}\")"
   ]
  },
  {
   "cell_type": "code",
   "execution_count": 34,
   "metadata": {},
   "outputs": [
    {
     "name": "stdout",
     "output_type": "stream",
     "text": [
      "1 Enter a name: ali \n",
      "2 Enter a name: abdullah\n",
      "3 Enter a name: adnan\n",
      "4 Enter a name: azeem\n",
      "5 Enter a name: ahmed\n",
      "6 Enter a name: kashif\n",
      "7 Enter a name: asif\n",
      "8 Enter a name: hamza\n",
      "9 Enter a name: ammar\n"
     ]
    },
    {
     "data": {
      "text/plain": [
       "['kashif', 'hamza']"
      ]
     },
     "execution_count": 34,
     "metadata": {},
     "output_type": "execute_result"
    }
   ],
   "source": [
    "friendList = []\n",
    "for a in range(1,10):\n",
    "    name = str(input(f\"{a} Enter a name: \")).lower()\n",
    "    if name.startswith(\"a\"):\n",
    "        continue\n",
    "    else:\n",
    "        friendList.append(name)\n",
    "    \n",
    "friendList"
   ]
  },
  {
   "cell_type": "code",
   "execution_count": 36,
   "metadata": {},
   "outputs": [
    {
     "name": "stdout",
     "output_type": "stream",
     "text": [
      "1 Enter a name: Adnan\n",
      "2 Enter a name: Ali\n",
      "3 Enter a name: abdullah\n",
      "4 Enter a name: abbas\n",
      "5 Enter a name: azeem\n",
      "6 Enter a name: Hamza\n",
      "7 Enter a name: Tabish\n",
      "8 Enter a name: Atiyan\n",
      "9 Enter a name: Rameez\n"
     ]
    },
    {
     "data": {
      "text/plain": [
       "['Hamza', 'Tabish', 'Rameez']"
      ]
     },
     "execution_count": 36,
     "metadata": {},
     "output_type": "execute_result"
    }
   ],
   "source": [
    "friendList = []\n",
    "for a in range(1,10):\n",
    "    name = str(input(f\"{a} Enter a name: \"))\n",
    "    if name.startswith(\"a\") or name.startswith(\"A\"):\n",
    "        continue\n",
    "    else:\n",
    "        friendList.append(name)\n",
    "    \n",
    "friendList"
   ]
  },
  {
   "cell_type": "markdown",
   "metadata": {},
   "source": [
    "# Nested For Loop (for inside for)"
   ]
  },
  {
   "cell_type": "code",
   "execution_count": 40,
   "metadata": {},
   "outputs": [
    {
     "name": "stdout",
     "output_type": "stream",
     "text": [
      "1 n\n",
      "1 a\n",
      "1 s\n",
      "1 i\n",
      "1 r\n",
      "2 n\n",
      "2 a\n",
      "2 s\n",
      "2 i\n",
      "2 r\n",
      "3 n\n",
      "3 a\n",
      "3 s\n",
      "3 i\n",
      "3 r\n",
      "4 n\n",
      "4 a\n",
      "4 s\n",
      "4 i\n",
      "4 r\n",
      "5 n\n",
      "5 a\n",
      "5 s\n",
      "5 i\n",
      "5 r\n"
     ]
    }
   ],
   "source": [
    "for a in [1,2,3,4,5]:\n",
    "    for v in \"nasir\":\n",
    "        print(a,v)"
   ]
  },
  {
   "cell_type": "code",
   "execution_count": 48,
   "metadata": {},
   "outputs": [
    {
     "name": "stdout",
     "output_type": "stream",
     "text": [
      "------------\n",
      "2 x 1 = 2\n",
      "2 x 2 = 4\n",
      "2 x 3 = 6\n",
      "2 x 4 = 8\n",
      "2 x 5 = 10\n",
      "2 x 6 = 12\n",
      "2 x 7 = 14\n",
      "2 x 8 = 16\n",
      "2 x 9 = 18\n",
      "2 x 10 = 20\n",
      "------------\n",
      "3 x 1 = 3\n",
      "3 x 2 = 6\n",
      "3 x 3 = 9\n",
      "3 x 4 = 12\n",
      "3 x 5 = 15\n",
      "3 x 6 = 18\n",
      "3 x 7 = 21\n",
      "3 x 8 = 24\n",
      "3 x 9 = 27\n",
      "3 x 10 = 30\n",
      "------------\n",
      "4 x 1 = 4\n",
      "4 x 2 = 8\n",
      "4 x 3 = 12\n",
      "4 x 4 = 16\n",
      "4 x 5 = 20\n",
      "4 x 6 = 24\n",
      "4 x 7 = 28\n",
      "4 x 8 = 32\n",
      "4 x 9 = 36\n",
      "4 x 10 = 40\n",
      "------------\n",
      "5 x 1 = 5\n",
      "5 x 2 = 10\n",
      "5 x 3 = 15\n",
      "5 x 4 = 20\n",
      "5 x 5 = 25\n",
      "5 x 6 = 30\n",
      "5 x 7 = 35\n",
      "5 x 8 = 40\n",
      "5 x 9 = 45\n",
      "5 x 10 = 50\n",
      "------------\n",
      "6 x 1 = 6\n",
      "6 x 2 = 12\n",
      "6 x 3 = 18\n",
      "6 x 4 = 24\n",
      "6 x 5 = 30\n",
      "6 x 6 = 36\n",
      "6 x 7 = 42\n",
      "6 x 8 = 48\n",
      "6 x 9 = 54\n",
      "6 x 10 = 60\n",
      "------------\n",
      "7 x 1 = 7\n",
      "7 x 2 = 14\n",
      "7 x 3 = 21\n",
      "7 x 4 = 28\n",
      "7 x 5 = 35\n",
      "7 x 6 = 42\n",
      "7 x 7 = 49\n",
      "7 x 8 = 56\n",
      "7 x 9 = 63\n",
      "7 x 10 = 70\n",
      "------------\n",
      "8 x 1 = 8\n",
      "8 x 2 = 16\n",
      "8 x 3 = 24\n",
      "8 x 4 = 32\n",
      "8 x 5 = 40\n",
      "8 x 6 = 48\n",
      "8 x 7 = 56\n",
      "8 x 8 = 64\n",
      "8 x 9 = 72\n",
      "8 x 10 = 80\n"
     ]
    }
   ],
   "source": [
    "\n",
    "for numberInputs in range(2,9):\n",
    "    print(\"------------\")\n",
    "    for num in range(1,11):\n",
    "        print(f\"{numberInputs} x {num} = {numberInputs * num}\")\n",
    "    "
   ]
  },
  {
   "cell_type": "markdown",
   "metadata": {},
   "source": [
    "# List comprehension"
   ]
  },
  {
   "cell_type": "code",
   "execution_count": 54,
   "metadata": {},
   "outputs": [
    {
     "data": {
      "text/plain": [
       "[1, 4, 9, 16, 25, 36, 49, 64, 81]"
      ]
     },
     "execution_count": 54,
     "metadata": {},
     "output_type": "execute_result"
    }
   ],
   "source": [
    "a = [1,2,3,4,5,6,7,8,9]\n",
    "square = []\n",
    "for number in a :\n",
    "    square.append(number **2)\n",
    "    \n",
    "square"
   ]
  },
  {
   "cell_type": "code",
   "execution_count": 56,
   "metadata": {},
   "outputs": [
    {
     "data": {
      "text/plain": [
       "[1, 4, 9, 16, 25, 36, 49, 64, 81, 100]"
      ]
     },
     "execution_count": 56,
     "metadata": {},
     "output_type": "execute_result"
    }
   ],
   "source": [
    "[num**2  for num in range(1,11)]"
   ]
  },
  {
   "cell_type": "code",
   "execution_count": 57,
   "metadata": {},
   "outputs": [
    {
     "data": {
      "text/plain": [
       "[25, 36, 49, 64, 81, 100]"
      ]
     },
     "execution_count": 57,
     "metadata": {},
     "output_type": "execute_result"
    }
   ],
   "source": [
    "[num**2  for num in range(1,11) if num > 4]"
   ]
  },
  {
   "cell_type": "code",
   "execution_count": null,
   "metadata": {},
   "outputs": [],
   "source": []
  }
 ],
 "metadata": {
  "kernelspec": {
   "display_name": "Python 3",
   "language": "python",
   "name": "python3"
  },
  "language_info": {
   "codemirror_mode": {
    "name": "ipython",
    "version": 3
   },
   "file_extension": ".py",
   "mimetype": "text/x-python",
   "name": "python",
   "nbconvert_exporter": "python",
   "pygments_lexer": "ipython3",
   "version": "3.7.3"
  }
 },
 "nbformat": 4,
 "nbformat_minor": 2
}
